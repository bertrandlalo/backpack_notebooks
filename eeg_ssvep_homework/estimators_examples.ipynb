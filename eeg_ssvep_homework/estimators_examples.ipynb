{
 "cells": [
  {
   "cell_type": "markdown",
   "metadata": {},
   "source": [
    "# Example of SSVEP estimators "
   ]
  },
  {
   "cell_type": "code",
   "execution_count": 1,
   "metadata": {},
   "outputs": [
    {
     "name": "stderr",
     "output_type": "stream",
     "text": [
      "/Users/raph/miniconda3/envs/moabb-env/lib/python3.8/site-packages/sklearn/utils/deprecation.py:144: FutureWarning: The sklearn.cluster.k_means_ module is  deprecated in version 0.22 and will be removed in version 0.24. The corresponding classes / functions should instead be imported from sklearn.cluster. Anything that cannot be imported from sklearn.cluster is now part of the private API.\n",
      "  warnings.warn(message, FutureWarning)\n",
      "/Users/raph/miniconda3/envs/moabb-env/lib/python3.8/site-packages/sklearn/externals/joblib/__init__.py:15: FutureWarning: sklearn.externals.joblib is deprecated in 0.21 and will be removed in 0.23. Please import this functionality directly from joblib, which can be installed with: pip install joblib. If this warning is raised when loading pickled models, you may need to re-serialize those models with scikit-learn 0.21+.\n",
      "  warnings.warn(msg, category=FutureWarning)\n"
     ]
    }
   ],
   "source": [
    "import matplotlib.pyplot as plt \n",
    "from moabb.datasets import SSVEPExo\n",
    "from moabb.paradigms import SSVEP\n",
    "import numpy as np\n",
    "import pandas as pd \n",
    "from pyriemann.classification import MDM\n",
    "from pyriemann.clustering import Potato\n",
    "from scipy.stats import norm\n",
    "import seaborn as sns \n",
    "from sklearn.pipeline import make_pipeline\n",
    "from sklearn.metrics import accuracy_score\n",
    "\n",
    "from utils import extract_epochs\n",
    "from estimators import SSVEPCovariance, SSVEPPotato"
   ]
  },
  {
   "cell_type": "markdown",
   "metadata": {},
   "source": [
    "## Read MOABB paradigm and data"
   ]
  },
  {
   "cell_type": "code",
   "execution_count": 2,
   "metadata": {},
   "outputs": [
    {
     "name": "stderr",
     "output_type": "stream",
     "text": [
      "Choosing the first 4 classes from all possible events\n"
     ]
    },
    {
     "name": "stdout",
     "output_type": "stream",
     "text": [
      "Found 12 subjects\n",
      "Found {1} sessions per subjects\n",
      "Found {2, 3, 4, 5} runs per session\n",
      "Found class {'13', 'rest', '17', '21'}\n"
     ]
    }
   ],
   "source": [
    "paradigm = SSVEP(n_classes=4)\n",
    "dataset = SSVEPExo()\n",
    "data = dataset.get_data()\n",
    "subjects = dataset.subject_list\n",
    "N = len(subjects)\n",
    "print(f'Found {N} subjects')\n",
    "print(f'Found {set([len(data[subject]) for subject in subjects])} sessions per subjects')\n",
    "print(f'Found {set([len(data[subject][\"session_0\"]) for subject in subjects])} runs per session')\n",
    "\n",
    "raw = data[12]['session_0']['run_1']\n",
    "# check we have all classes we expected\n",
    "_classes = set()\n",
    "for subject in subjects:\n",
    "    for session in data[subject].keys():\n",
    "        for run in data[subject][session].keys():\n",
    "            raw = data[subject][session][run]\n",
    "            X, y, _ = paradigm.process_raw(raw, dataset)\n",
    "            _classes = set(list(_classes) + list(set(y)))\n",
    "print(f'Found class {_classes}')"
   ]
  },
  {
   "cell_type": "markdown",
   "metadata": {},
   "source": [
    "## Classification: SSVEPCovariance + MDM "
   ]
  },
  {
   "cell_type": "code",
   "execution_count": 3,
   "metadata": {},
   "outputs": [],
   "source": [
    "# cv split  \n",
    "run_train = 'run_0'\n",
    "run_test = 'run_1'\n",
    "\n",
    "# epoch onset/offset\n",
    "tmin = 1\n",
    "tmax = 7\n",
    "\n",
    "fs = 256\n",
    "# parameters from SSVEPCovariance\n",
    "flickering_frequencies = (13, 17, 21)\n",
    "band_width = 4\n",
    "order = 2\n",
    "filter_design = 'iir'\n",
    "padlen = None\n",
    "\n",
    "clf = make_pipeline(SSVEPCovariance(fs, flickering_frequencies,'scm', padlen= padlen), MDM())\n",
    "\n",
    "# for 4 classes \n",
    "event_id = {'rest': 1, '13': 2, '17': 3, '21': 4}\n",
    "acc_scores_4classes = []\n",
    "for subject in subjects: \n",
    "    Xtrain, ytrain = extract_epochs(data[subject][\"session_0\"][run_train], event_id=event_id, tmin=tmin, tmax=tmax)\n",
    "    Xtest, ytest = extract_epochs(data[subject][\"session_0\"][run_test], event_id=event_id, tmin=tmin, tmax=tmax)\n",
    "    clf.fit(Xtrain, ytrain)\n",
    "    ypred = clf.predict(Xtest)\n",
    "    acc_scores_4classes.append(accuracy_score(ypred, ytest))"
   ]
  },
  {
   "cell_type": "code",
   "execution_count": 4,
   "metadata": {},
   "outputs": [],
   "source": [
    "paper_scores_online = [.688, .646, .812, .833, .729, .667, .931, .875, .604, .646, .542, .525]\n",
    "df1 = pd.DataFrame(paper_scores_online, columns=['accuracy'], index=subjects)\n",
    "df1['source'] = 'paper_online'\n",
    "\n",
    "df2 = pd.DataFrame(acc_scores_4classes, columns=['accuracy'], index=subjects)\n",
    "df2['source'] = 'mine_4classes'\n",
    "\n",
    "df = pd.concat([df1, df2], axis=0).reset_index().rename({'index':'subjects'}, axis=1)"
   ]
  },
  {
   "cell_type": "code",
   "execution_count": 5,
   "metadata": {},
   "outputs": [
    {
     "data": {
      "image/png": "[encoded data removed]",
      "text/plain": [
       "<Figure size 720x432 with 1 Axes>"
      ]
     },
     "metadata": {
      "needs_background": "light"
     },
     "output_type": "display_data"
    }
   ],
   "source": [
    "plt.figure(figsize=(10, 6))\n",
    "sns.barplot(x=\"subjects\", hue=\"source\", y=\"accuracy\", data=df)\n",
    "plt.title('Accuracy for SSVEP-Covariance + MDM \\n Train on run_0, test on run_1', fontsize=15)\n",
    "plt.show()"
   ]
  },
  {
   "cell_type": "markdown",
   "metadata": {},
   "source": [
    "## Artifact dectection: Potato or SSVEPPotato"
   ]
  },
  {
   "cell_type": "code",
   "execution_count": 6,
   "metadata": {},
   "outputs": [],
   "source": [
    "# dataset \n",
    "subject = 12 \n",
    "run_train = 'run_0'\n",
    "run_test = 'run_1'\n",
    "\n",
    "# epoch onset/offset\n",
    "tmin = 1\n",
    "tmax = 7\n",
    "\n",
    "# for 4 classes \n",
    "event_id = {'rest': 1, '13': 2, '17': 3, '21': 4}\n",
    "\n",
    "Xtrain, ytrain = extract_epochs(data[subject][\"session_0\"][run_train], event_id=event_id, tmin=tmin, tmax=tmax)\n",
    "Xtest, ytest = extract_epochs(data[subject][\"session_0\"][run_test], event_id=event_id, tmin=tmin, tmax=tmax)\n"
   ]
  },
  {
   "cell_type": "code",
   "execution_count": 7,
   "metadata": {},
   "outputs": [
    {
     "name": "stdout",
     "output_type": "stream",
     "text": [
      "Test SQI using single potato :\n",
      " [6.72255335e-02 2.12278774e-01 5.06814707e-02 1.03714916e-04\n",
      " 1.01493410e-02 2.27071697e-03 2.26257946e-02 1.37862027e-02\n",
      " 7.72364915e-03 6.70508787e-02 3.42590481e-04 3.07465040e-02\n",
      " 8.16118721e-02 1.06190849e-03 8.31448844e-03 9.43464025e-03\n",
      " 1.70319881e-03 7.59240234e-02 4.00220811e-03 2.27175135e-03\n",
      " 4.81873960e-02 3.62458187e-03 1.05403270e-01 1.72401879e-03\n",
      " 4.44148872e-03 1.91125270e-05 3.84664583e-03 3.06322114e-03\n",
      " 3.36188307e-04 6.92967426e-07 8.49139628e-04 9.32752124e-04]\n",
      "Test SQI using potatoes class field :\n",
      " [1. 1. 1. 1. 1. 1. 1. 1. 1. 1. 1. 1. 1. 1. 1. 1. 1. 1. 1. 1. 1. 1. 1. 1.\n",
      " 1. 1. 1. 1. 1. 1. 1. 1.]\n"
     ]
    },
    {
     "name": "stderr",
     "output_type": "stream",
     "text": [
      "/Users/raph/PycharmProject/backpack_notebooks/eeg_ssvep_homework/estimators.py:197: RuntimeWarning: divide by zero encountered in log\n",
      "  q += np.log(np.apply_along_axis(z_to_p, axis=0, arr=z_score))\n"
     ]
    }
   ],
   "source": [
    "fs = 256\n",
    "# parameters from SSVEPCovariance\n",
    "flickering_frequencies = (13, 17, 21)\n",
    "band_width = 4\n",
    "order = 2\n",
    "filter_design = 'iir'\n",
    "padlen = None\n",
    "\n",
    "\n",
    "ssvep_covariance = SSVEPCovariance(fs, flickering_frequencies,'scm', padlen  = padlen)\n",
    "ssvep_potato = SSVEPPotato()\n",
    "potato = Potato()\n",
    "\n",
    "# Rejection using single potato \n",
    "reject_pipeline_1 = make_pipeline(ssvep_covariance, potato)\n",
    "z_score_1 = reject_pipeline_1.fit(Xtrain).transform(Xtest)\n",
    "z_to_p = lambda z_score: 1 - norm.cdf(z_score)\n",
    "p_score_1 = np.apply_along_axis(z_to_p, 0, z_score_1)\n",
    "print(f'Test SQI using single potato :\\n {p_score_1}')\n",
    "\n",
    "# Rejection using potato class field \n",
    "reject_pipeline_2 = make_pipeline(ssvep_covariance, ssvep_potato)\n",
    "p_value_2 = reject_pipeline_2.fit(Xtrain, ytrain).transform(Xtest)\n",
    "print(f'Test SQI using potatoes class field :\\n {p_value_2}')\n"
   ]
  },
  {
   "cell_type": "markdown",
   "metadata": {},
   "source": []
  },
  {
   "cell_type": "code",
   "execution_count": null,
   "metadata": {},
   "outputs": [],
   "source": []
  }
 ],
 "metadata": {
  "kernelspec": {
   "display_name": "Python 3",
   "language": "python",
   "name": "python3"
  },
  "language_info": {
   "codemirror_mode": {
    "name": "ipython",
    "version": 3
   },
   "file_extension": ".py",
   "mimetype": "text/x-python",
   "name": "python",
   "nbconvert_exporter": "python",
   "pygments_lexer": "ipython3",
   "version": "3.8.1"
  }
 },
 "nbformat": 4,
 "nbformat_minor": 4
}
