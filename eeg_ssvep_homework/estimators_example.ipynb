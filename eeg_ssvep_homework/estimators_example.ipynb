{
 "cells": [
  {
   "cell_type": "markdown",
   "metadata": {},
   "source": [
    "# Example of SSVEP estimators "
   ]
  },
  {
   "cell_type": "code",
   "execution_count": 1,
   "metadata": {},
   "outputs": [
    {
     "name": "stderr",
     "output_type": "stream",
     "text": [
      "Choosing the first 4 classes from all possible events\n"
     ]
    }
   ],
   "source": [
    "from moabb.datasets import SSVEPExo\n",
    "from moabb.paradigms import SSVEP\n",
    "import numpy as np\n",
    "from scipy.stats import norm\n",
    "from sklearn.pipeline import make_pipeline\n",
    "\n",
    "from utils import extract_epochs\n",
    "from estimators import SSVEPCovariance, SSVEPPotato, Potato\n",
    "\n",
    "paradigm = SSVEP(n_classes=4)\n",
    "dataset = SSVEPExo()\n",
    "data = dataset.get_data()"
   ]
  },
  {
   "cell_type": "code",
   "execution_count": 2,
   "metadata": {},
   "outputs": [],
   "source": [
    "# dataset \n",
    "subject = 12 \n",
    "run_train = 'run_0'\n",
    "run_test = 'run_1'\n",
    "\n",
    "# epoch onset/offset\n",
    "tmin = 1\n",
    "tmax = 7\n",
    "\n",
    "# for 4 classes \n",
    "event_id = {'rest': 1, '13': 2, '17': 3, '21': 4}\n",
    "\n",
    "Xtrain, ytrain = extract_epochs(data[subject][\"session_0\"][run_train], event_id=event_id, tmin=tmin, tmax=tmax)\n",
    "Xtest, ytest = extract_epochs(data[subject][\"session_0\"][run_test], event_id=event_id, tmin=tmin, tmax=tmax)\n"
   ]
  },
  {
   "cell_type": "code",
   "execution_count": 5,
   "metadata": {},
   "outputs": [
    {
     "name": "stdout",
     "output_type": "stream",
     "text": [
      "Test SQI using single potato :\n",
      " [6.72255335e-02 2.12278774e-01 5.06814707e-02 1.03714916e-04\n",
      " 1.01493410e-02 2.27071697e-03 2.26257946e-02 1.37862027e-02\n",
      " 7.72364915e-03 6.70508787e-02 3.42590481e-04 3.07465040e-02\n",
      " 8.16118721e-02 1.06190849e-03 8.31448844e-03 9.43464025e-03\n",
      " 1.70319881e-03 7.59240234e-02 4.00220811e-03 2.27175135e-03\n",
      " 4.81873960e-02 3.62458187e-03 1.05403270e-01 1.72401879e-03\n",
      " 4.44148872e-03 1.91125270e-05 3.84664583e-03 3.06322114e-03\n",
      " 3.36188307e-04 6.92967426e-07 8.49139628e-04 9.32752124e-04]\n",
      "Test SQI using potatoes class field :\n",
      " [1. 1. 1. 1. 1. 1. 1. 1. 1. 1. 1. 1. 1. 1. 1. 1. 1. 1. 1. 1. 1. 1. 1. 1.\n",
      " 1. 1. 1. 1. 1. 1. 1. 1.]\n"
     ]
    }
   ],
   "source": [
    "fs = 256\n",
    "# parameters from SSVEPCovariance\n",
    "flickering_frequencies = (13, 17, 21)\n",
    "band_width = 4\n",
    "order = 2\n",
    "filter_design = 'iir'\n",
    "padlen = None\n",
    "\n",
    "\n",
    "ssvep_covariance = SSVEPCovariance(fs, flickering_frequencies,'scm', padlen  = padlen)\n",
    "ssvep_potato = SSVEPPotato()\n",
    "potato = Potato()\n",
    "\n",
    "# Rejection using single potato \n",
    "reject_pipeline_1 = make_pipeline(ssvep_covariance, potato)\n",
    "z_score_1 = reject_pipeline_1.fit(Xtrain).transform(Xtest)\n",
    "z_to_p = lambda z_score: 1 - norm.cdf(z_score)\n",
    "p_score_1 = np.apply_along_axis(z_to_p, 0, z_score_1)\n",
    "print(f'Test SQI using single potato :\\n {p_score_1}')\n",
    "\n",
    "# Rejection using potato class field \n",
    "reject_pipeline_2 = make_pipeline(ssvep_covariance, ssvep_potato)\n",
    "reject_pipeline_2.fit(Xtrain, ytrain)\n",
    "print(f'Train trial SQI using potatoes class field :\\n {reject_pipeline_2.transform(Xtrain)}')\n",
    "print(f'Test SQI using potatoes class field :\\n {reject_pipeline_2.transform(Xtest)}')\n"
   ]
  }
 ],
 "metadata": {
  "kernelspec": {
   "display_name": "Python 3",
   "language": "python",
   "name": "python3"
  },
  "language_info": {
   "codemirror_mode": {
    "name": "ipython",
    "version": 3
   },
   "file_extension": ".py",
   "mimetype": "text/x-python",
   "name": "python",
   "nbconvert_exporter": "python",
   "pygments_lexer": "ipython3",
   "version": "3.8.1"
  }
 },
 "nbformat": 4,
 "nbformat_minor": 4
}
